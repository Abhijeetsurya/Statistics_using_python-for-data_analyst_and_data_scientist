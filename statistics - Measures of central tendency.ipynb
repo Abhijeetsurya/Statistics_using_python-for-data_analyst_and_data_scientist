{
 "cells": [
  {
   "cell_type": "markdown",
   "id": "8f86fd7e-5009-458e-a690-3877223cc81f",
   "metadata": {},
   "source": [
    "# Mean"
   ]
  },
  {
   "cell_type": "markdown",
   "id": "f75a215b-7698-49e0-8036-7b14949beaff",
   "metadata": {},
   "source": [
    "# Method 1 - Manual "
   ]
  },
  {
   "cell_type": "code",
   "execution_count": 39,
   "id": "2e4ea405-0f4c-42a1-8dc7-2f3c9dce9d2a",
   "metadata": {},
   "outputs": [
    {
     "name": "stdout",
     "output_type": "stream",
     "text": [
      "Population Mean 252.0\n",
      "Sample Mean 193.33333333333334\n"
     ]
    }
   ],
   "source": [
    "import matplotlib.pyplot as plt\n",
    "population = [150, 230, 160, 450, 270]\n",
    "sample = [150, 160, 270]\n",
    "\n",
    "pop_mean = sum(population)/len(population)\n",
    "sample_mean = sum(sample)/len(sample)\n",
    "\n",
    "print(\"Population Mean\", pop_mean)\n",
    "print(\"Sample Mean\", sample_mean)\n"
   ]
  },
  {
   "cell_type": "markdown",
   "id": "a2386437-eea3-4310-be2e-74db19308df2",
   "metadata": {},
   "source": [
    "# Method 2 - Using numpy"
   ]
  },
  {
   "cell_type": "code",
   "execution_count": 40,
   "id": "c2dcbd70-986b-4b47-b736-7647b42391e0",
   "metadata": {},
   "outputs": [
    {
     "name": "stdout",
     "output_type": "stream",
     "text": [
      "Mean: 86.6\n"
     ]
    }
   ],
   "source": [
    "import numpy as np\n",
    "\n",
    "data = [85, 90, 78, 92, 88]\n",
    "mean = np.mean(data)\n",
    "print(\"Mean:\", mean)\n"
   ]
  },
  {
   "cell_type": "markdown",
   "id": "e6be39a6-94f1-457c-b9ac-0b839b88c057",
   "metadata": {},
   "source": [
    "# Method 3 - Using statistics\n"
   ]
  },
  {
   "cell_type": "code",
   "execution_count": 7,
   "id": "1337f39b-3d44-40d4-9dc4-8aaaa0191105",
   "metadata": {},
   "outputs": [
    {
     "name": "stdout",
     "output_type": "stream",
     "text": [
      "The mean is:  30\n"
     ]
    }
   ],
   "source": [
    "import statistics as stats\n",
    "\n",
    "data = [10, 20, 30, 40, 50]\n",
    "\n",
    "mean = stats.mean(data)\n",
    "print(\"The mean is: \", mean)"
   ]
  },
  {
   "cell_type": "code",
   "execution_count": 15,
   "id": "12858e5c-8f26-4164-af74-acf0326b34c0",
   "metadata": {},
   "outputs": [
    {
     "name": "stdout",
     "output_type": "stream",
     "text": [
      "The mean of sepal_length 5.843333333333334\n"
     ]
    }
   ],
   "source": [
    "# Calculate mean in large dataset\n",
    "\n",
    "import seaborn as sns\n",
    "import numpy as np\n",
    "\n",
    "iris = sns.load_dataset('iris')\n",
    "iris.head()\n",
    "\n",
    "mean = np.mean(iris[\"sepal_length\"])\n",
    "print(\"The mean of sepal_length\", mean)"
   ]
  },
  {
   "cell_type": "markdown",
   "id": "0a2a36b7-4345-4082-a54a-9abce1c2ec75",
   "metadata": {},
   "source": [
    "# Median\n"
   ]
  },
  {
   "cell_type": "markdown",
   "id": "9d667581-e592-4380-ae32-e7a9bf4a067d",
   "metadata": {},
   "source": [
    "# Method 1 - Using numpy"
   ]
  },
  {
   "cell_type": "code",
   "execution_count": 17,
   "id": "1bcabccc-fae3-49a5-be87-2b86f17d5a5d",
   "metadata": {},
   "outputs": [
    {
     "name": "stdout",
     "output_type": "stream",
     "text": [
      "The median is 42.5\n"
     ]
    }
   ],
   "source": [
    "data = [20, 22, 40, 60, 45, 200]\n",
    "\n",
    "medain = np.median(data)\n",
    "print(\"The median is\", medain)"
   ]
  },
  {
   "cell_type": "markdown",
   "id": "6d757887-c57e-467a-9fff-87b51e831578",
   "metadata": {},
   "source": [
    "# Method 2 - Using statistics"
   ]
  },
  {
   "cell_type": "code",
   "execution_count": 18,
   "id": "9f4802c8-da33-432a-84ab-7ca4d75ee5d7",
   "metadata": {},
   "outputs": [
    {
     "name": "stdout",
     "output_type": "stream",
     "text": [
      "57.5\n"
     ]
    }
   ],
   "source": [
    "import statistics as stats\n",
    "\n",
    "data = [50, 65, 23, 67]\n",
    "\n",
    "medain = stats.median(data)\n",
    "print(medain)"
   ]
  },
  {
   "cell_type": "markdown",
   "id": "7f667d74-ba23-409e-9338-16364ca6704c",
   "metadata": {},
   "source": [
    "# Method 3 - Using Pandas"
   ]
  },
  {
   "cell_type": "code",
   "execution_count": 22,
   "id": "4b53886e-b286-4c9f-ad10-b7e04078b1bc",
   "metadata": {},
   "outputs": [
    {
     "name": "stdout",
     "output_type": "stream",
     "text": [
      "   Values\n",
      "0      22\n",
      "1      25\n",
      "2      27\n",
      "25.0\n"
     ]
    }
   ],
   "source": [
    "import pandas as pd\n",
    "\n",
    "df = pd.DataFrame({\n",
    "    'Values': [22, 25, 27]\n",
    "})\n",
    "\n",
    "print(df)\n",
    "\n",
    "median_pandas = df['Values'].median()\n",
    "\n",
    "print(median_pandas)"
   ]
  },
  {
   "cell_type": "code",
   "execution_count": 26,
   "id": "c7292273-56f2-4e41-8585-37afdb303150",
   "metadata": {},
   "outputs": [
    {
     "name": "stdout",
     "output_type": "stream",
     "text": [
      "Medain is 5.8\n"
     ]
    }
   ],
   "source": [
    "# Calculate median in large dataset\n",
    "\n",
    "import seaborn as sns\n",
    "import numpy as np\n",
    "\n",
    "iris = sns.load_dataset('iris')\n",
    "iris.head()\n",
    "medain = np.median(iris['sepal_length'])\n",
    "print(\"Medain is\", medain)"
   ]
  },
  {
   "cell_type": "markdown",
   "id": "d69f717a-2680-4699-869c-203f37cdc0ee",
   "metadata": {},
   "source": [
    "# Mode"
   ]
  },
  {
   "cell_type": "code",
   "execution_count": 1,
   "id": "1142a77b-811c-4373-879c-ed4d9228c3dc",
   "metadata": {},
   "outputs": [],
   "source": [
    "# Method 1 - statistics module"
   ]
  },
  {
   "cell_type": "code",
   "execution_count": 3,
   "id": "d85c23ed-835c-406a-a011-517ffadd83a1",
   "metadata": {},
   "outputs": [
    {
     "name": "stdout",
     "output_type": "stream",
     "text": [
      "90\n"
     ]
    }
   ],
   "source": [
    "import statistics as stats\n",
    "\n",
    "data = [85, 90, 95, 85, 90, 90, 96, 80]\n",
    "\n",
    "mode = stats.mode(data)\n",
    "\n",
    "print(mode)"
   ]
  },
  {
   "cell_type": "code",
   "execution_count": 4,
   "id": "05239249-d20d-4385-ad5e-1d947c22c22c",
   "metadata": {},
   "outputs": [
    {
     "name": "stdout",
     "output_type": "stream",
     "text": [
      "85\n"
     ]
    }
   ],
   "source": [
    "import statistics as stats\n",
    "\n",
    "data = [85, 90, 95, 85, 90, 90, 96, 80, 85]\n",
    "\n",
    "mode = stats.mode(data)\n",
    "\n",
    "print(mode)"
   ]
  },
  {
   "cell_type": "code",
   "execution_count": 5,
   "id": "c909f99a-17e7-40f8-b590-ecbbf0a15080",
   "metadata": {},
   "outputs": [
    {
     "name": "stdout",
     "output_type": "stream",
     "text": [
      "[85, 90]\n"
     ]
    }
   ],
   "source": [
    "import statistics as stats\n",
    "\n",
    "data = [85, 90, 95, 85, 90, 90, 96, 80, 85]\n",
    "\n",
    "mode = stats.multimode(data)\n",
    "\n",
    "print(mode)"
   ]
  },
  {
   "cell_type": "code",
   "execution_count": 9,
   "id": "49d2b83d-fda6-4888-8f61-1b21e6a01cc5",
   "metadata": {},
   "outputs": [
    {
     "name": "stdout",
     "output_type": "stream",
     "text": [
      "ModeResult(mode=np.int64(85), count=np.int64(3))\n"
     ]
    }
   ],
   "source": [
    "# Method 2 - scipy library\n",
    "\n",
    "from scipy import stats\n",
    "\n",
    "data = [85, 90, 95, 85, 90, 90, 96, 80, 85, 91, 80]\n",
    "\n",
    "mode = stats.mode(data)\n",
    "print(mode)\n",
    "\n"
   ]
  },
  {
   "cell_type": "code",
   "execution_count": null,
   "id": "111ca41e-11cf-4dcd-966b-47fdc9baddde",
   "metadata": {},
   "outputs": [],
   "source": []
  },
  {
   "cell_type": "code",
   "execution_count": null,
   "id": "629692fe-a8c1-45a5-9355-528afe9b1eb9",
   "metadata": {},
   "outputs": [],
   "source": []
  }
 ],
 "metadata": {
  "kernelspec": {
   "display_name": "Python 3 (ipykernel)",
   "language": "python",
   "name": "python3"
  },
  "language_info": {
   "codemirror_mode": {
    "name": "ipython",
    "version": 3
   },
   "file_extension": ".py",
   "mimetype": "text/x-python",
   "name": "python",
   "nbconvert_exporter": "python",
   "pygments_lexer": "ipython3",
   "version": "3.12.9"
  }
 },
 "nbformat": 4,
 "nbformat_minor": 5
}
