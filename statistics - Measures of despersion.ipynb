{
 "cells": [
  {
   "cell_type": "markdown",
   "id": "1007edf4-b7c5-4483-a14a-1ae28f39e59b",
   "metadata": {},
   "source": [
    "# Measures of Despersion"
   ]
  },
  {
   "cell_type": "markdown",
   "id": "dd7e3c6d-6a52-4807-8b7b-b4c377f9267e",
   "metadata": {},
   "source": [
    "# Variance Using Numpy"
   ]
  },
  {
   "cell_type": "code",
   "execution_count": 34,
   "id": "f8370d15-51ac-47b2-b742-a8185e2679cc",
   "metadata": {},
   "outputs": [
    {
     "name": "stdout",
     "output_type": "stream",
     "text": [
      "Population variance:  50.0\n",
      "Sample variance:  62.5\n"
     ]
    }
   ],
   "source": [
    "import numpy as np\n",
    "\n",
    "data = [60, 65, 70, 75, 80]\n",
    "\n",
    "print(\"Population variance: \", np.var(data, ddof = 0))  # population variance\n",
    "\n",
    "print(\"Sample variance: \", np.var(data, ddof = 1)) # sample variance"
   ]
  },
  {
   "cell_type": "markdown",
   "id": "a542fb05-35ae-44da-8b55-fc2aeee083f7",
   "metadata": {},
   "source": [
    "# Variance Using pandas"
   ]
  },
  {
   "cell_type": "code",
   "execution_count": 1,
   "id": "291bc226-dafd-4065-bd90-a3ea5e5cc682",
   "metadata": {},
   "outputs": [
    {
     "name": "stdout",
     "output_type": "stream",
     "text": [
      "Sample Variance: 11.727272727272727\n",
      "Population Variance: 10.75\n"
     ]
    }
   ],
   "source": [
    "import pandas as pd\n",
    "\n",
    "data = [2, 5, 6, 6, 7, 8, 5, 4, 9, 14, 2, 10]\n",
    "\n",
    "series = pd.Series(data)\n",
    "\n",
    "sample_variance = series.var()\n",
    "print(\"Sample Variance:\", sample_variance)\n",
    "\n",
    "population_variance = series.var(ddof = 0)\n",
    "print(\"Population Variance:\", population_variance)"
   ]
  },
  {
   "cell_type": "markdown",
   "id": "8d28116b-ea8f-4d76-ab8f-ca5e99d15aad",
   "metadata": {},
   "source": [
    "# Variance usign Scipy"
   ]
  },
  {
   "cell_type": "code",
   "execution_count": 4,
   "id": "e99e4c2e-5b85-4524-8d77-6dec89c258ec",
   "metadata": {},
   "outputs": [
    {
     "name": "stdout",
     "output_type": "stream",
     "text": [
      "11.727272727272727\n"
     ]
    }
   ],
   "source": [
    "from scipy import stats\n",
    "\n",
    "data = [2, 5, 6, 6, 7, 8, 5, 4, 9, 14, 2, 10]\n",
    "\n",
    "sample_variance = stats.tvar(data)\n",
    "print(sample_variance)"
   ]
  },
  {
   "cell_type": "markdown",
   "id": "3b7b59f8-dfb3-4ee0-80ec-1a5d7e833785",
   "metadata": {},
   "source": [
    "# Standard Deviation using numpy"
   ]
  },
  {
   "cell_type": "code",
   "execution_count": 20,
   "id": "27443a0c-8d9c-4715-b982-afbfc1d37a22",
   "metadata": {},
   "outputs": [
    {
     "name": "stdout",
     "output_type": "stream",
     "text": [
      "sample standard deviation 8.539125638299666\n",
      "Population standard deviation 7.39509972887452\n"
     ]
    }
   ],
   "source": [
    "import numpy as np\n",
    "\n",
    "data = [60, 65, 70, 80]\n",
    "\n",
    "sample_dev = np.std(data, ddof=1)\n",
    "print(\"sample standard deviation\",sample_dev)\n",
    "\n",
    "pop_dev = np.std(data, ddof = 0)\n",
    "print(\"Population standard deviation\",pop_dev)"
   ]
  },
  {
   "cell_type": "markdown",
   "id": "e313b88e-0fb4-4835-bd97-324a712dbc62",
   "metadata": {},
   "source": [
    "# Standard Deviation using pandas"
   ]
  },
  {
   "cell_type": "code",
   "execution_count": 23,
   "id": "bc7c7329-0075-4c17-8934-55fcaecb1aaf",
   "metadata": {},
   "outputs": [
    {
     "name": "stdout",
     "output_type": "stream",
     "text": [
      "0    60\n",
      "1    65\n",
      "2    70\n",
      "3    80\n",
      "dtype: int64\n",
      "sample standard deviation 8.539125638299666\n",
      "Population standard deviation 7.39509972887452\n"
     ]
    }
   ],
   "source": [
    "import pandas as pd\n",
    "data = [60, 65, 70, 80]\n",
    "\n",
    "series = pd.Series(data)\n",
    "print(series)\n",
    "\n",
    "s = series.std(ddof = 1)\n",
    "print(\"sample standard deviation\", s)\n",
    "\n",
    "p = series.std(ddof = 0)\n",
    "print(\"Population standard deviation\", p)"
   ]
  },
  {
   "cell_type": "markdown",
   "id": "345cc985-8b0f-4145-9f4a-36e89f0cf655",
   "metadata": {},
   "source": [
    "# Standard Deviation Using Scipy"
   ]
  },
  {
   "cell_type": "code",
   "execution_count": 40,
   "id": "c58dddff-97ac-4e1b-a0e7-509bedcec7d6",
   "metadata": {},
   "outputs": [
    {
     "name": "stdout",
     "output_type": "stream",
     "text": [
      "8.539125638299664\n"
     ]
    }
   ],
   "source": [
    "from scipy import stats\n",
    "import math\n",
    "data = [60, 65, 70, 80]\n",
    "sample_std = math.sqrt(stats.tvar(data))\n",
    "print(sample_std)"
   ]
  },
  {
   "cell_type": "code",
   "execution_count": 1,
   "id": "3bf55b95-b139-4277-b6d9-73bdec3d5159",
   "metadata": {},
   "outputs": [
    {
     "name": "stdout",
     "output_type": "stream",
     "text": [
      "10\n"
     ]
    }
   ],
   "source": [
    "# Calulate Range\n",
    "import numpy as np\n",
    "data = [10, 15, 14, 12, 18, 20, 15]\n",
    "\n",
    "range_ = np.max(data) - np.min(data)\n",
    "print(range_)"
   ]
  },
  {
   "cell_type": "code",
   "execution_count": 8,
   "id": "4f10bc91-7ac9-4ad1-80f7-788e752c9d2f",
   "metadata": {},
   "outputs": [
    {
     "name": "stdout",
     "output_type": "stream",
     "text": [
      "125.0\n"
     ]
    }
   ],
   "source": [
    "# Calulate Varinace\n",
    "import numpy as np\n",
    "var = np.var(data)\n",
    "print(var)"
   ]
  },
  {
   "cell_type": "code",
   "execution_count": 3,
   "id": "4516497d-66d9-49ef-a964-eb1b4d261623",
   "metadata": {},
   "outputs": [
    {
     "name": "stdout",
     "output_type": "stream",
     "text": [
      "3.136356914300021\n"
     ]
    }
   ],
   "source": [
    "# calculate standard deviation\n",
    "import numpy as np\n",
    "std = np.std(data)\n",
    "print(std)"
   ]
  },
  {
   "cell_type": "code",
   "execution_count": null,
   "id": "dc4cb9b5-c376-415b-ab54-eb23f303528a",
   "metadata": {},
   "outputs": [],
   "source": []
  }
 ],
 "metadata": {
  "kernelspec": {
   "display_name": "Python 3 (ipykernel)",
   "language": "python",
   "name": "python3"
  },
  "language_info": {
   "codemirror_mode": {
    "name": "ipython",
    "version": 3
   },
   "file_extension": ".py",
   "mimetype": "text/x-python",
   "name": "python",
   "nbconvert_exporter": "python",
   "pygments_lexer": "ipython3",
   "version": "3.12.9"
  }
 },
 "nbformat": 4,
 "nbformat_minor": 5
}
